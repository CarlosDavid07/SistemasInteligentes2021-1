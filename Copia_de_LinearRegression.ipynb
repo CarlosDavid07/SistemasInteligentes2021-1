{
  "nbformat": 4,
  "nbformat_minor": 0,
  "metadata": {
    "colab": {
      "name": "Copia de LinearRegression.ipynb",
      "provenance": [],
      "collapsed_sections": [],
      "toc_visible": true,
      "include_colab_link": true
    },
    "kernelspec": {
      "name": "python3",
      "display_name": "Python 3"
    }
  },
  "cells": [
    {
      "cell_type": "markdown",
      "metadata": {
        "id": "view-in-github",
        "colab_type": "text"
      },
      "source": [
        "<a href=\"https://colab.research.google.com/github/CarlosDavid07/SistemasInteligentes2021-1/blob/main/Copia_de_LinearRegression.ipynb\" target=\"_parent\"><img src=\"https://colab.research.google.com/assets/colab-badge.svg\" alt=\"Open In Colab\"/></a>"
      ]
    },
    {
      "cell_type": "markdown",
      "metadata": {
        "id": "RLPrVQW4iOF9"
      },
      "source": [
        "**Problem Statement**\n",
        "\n",
        "The motorization index of a country measures the number of engines (machines, vehicles) that a country has. Use Linear Regression to predict the motorization index based on the minimum wage, gas price, and stimulus to demand."
      ]
    },
    {
      "cell_type": "markdown",
      "metadata": {
        "id": "O_pq6hzdjH7C"
      },
      "source": [
        "**Step 1: Load Dataset**"
      ]
    },
    {
      "cell_type": "code",
      "metadata": {
        "id": "cyGDXnhkxUCu"
      },
      "source": [
        "#Pandas: work with datasets\n",
        "import pandas as pd\n",
        "\n",
        "#Read dataset\n",
        "motor_stock = pd.read_csv('https://docs.google.com/spreadsheets/d/e/2PACX-1vTEtYc1bjxca7MS4Iue4rOXO5aDNHhmZKUlVmDIQL1UV9gLWefHZ3-9zJ4QONv-IwOlly8IM_df1rpF/pub?gid=0&single=true&output=csv')\n",
        "print(\"\\nDataset:\\n\")\n",
        "motor_stock.head()"
      ],
      "execution_count": null,
      "outputs": []
    },
    {
      "cell_type": "markdown",
      "metadata": {
        "id": "x3MvfkihjMiN"
      },
      "source": [
        "**Step 2: Split dataset**"
      ]
    },
    {
      "cell_type": "code",
      "metadata": {
        "id": "JYYNeKvuyoyj"
      },
      "source": [
        "#Split X and Y\n",
        "Y = motor_stock['Motors']\n",
        "X = motor_stock.drop(['Motors'], axis=1)\n",
        "\n",
        "#Print X Matrix\n",
        "print(\"\\nX:\\n\")\n",
        "X.head()"
      ],
      "execution_count": null,
      "outputs": []
    },
    {
      "cell_type": "markdown",
      "metadata": {
        "id": "BFyFErmvjpzb"
      },
      "source": [
        "**Step 3: Apply Linear Regression**. Sklearn: https://scikit-learn.org/stable/modules/linear_model.html "
      ]
    },
    {
      "cell_type": "code",
      "metadata": {
        "id": "inkDm6JxzufM"
      },
      "source": [
        "import numpy as np\n",
        "from sklearn.linear_model import LinearRegression\n",
        "\n",
        "reg = LinearRegression().fit(X, Y)\n",
        "\n",
        "#Beta values\n",
        "\n",
        "print(\"\\nBeta:\\n\")\n",
        "print(reg.coef_)\n",
        "\n",
        "print(\"\\nBeta0:\\n\")\n",
        "print(reg.intercept_)"
      ],
      "execution_count": null,
      "outputs": []
    },
    {
      "cell_type": "markdown",
      "metadata": {
        "id": "LhY760UK4w8Y"
      },
      "source": [
        "**Exercise:** https://www.kaggle.com/hellbuoy/car-price-prediction"
      ]
    }
  ]
}