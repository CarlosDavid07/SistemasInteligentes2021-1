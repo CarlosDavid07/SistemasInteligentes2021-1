{
  "nbformat": 4,
  "nbformat_minor": 0,
  "metadata": {
    "colab": {
      "name": "Copia de FeatureSelectionSaber11.ipynb",
      "provenance": [],
      "collapsed_sections": [],
      "include_colab_link": true
    },
    "kernelspec": {
      "name": "python3",
      "display_name": "Python 3"
    }
  },
  "cells": [
    {
      "cell_type": "markdown",
      "metadata": {
        "id": "view-in-github",
        "colab_type": "text"
      },
      "source": [
        "<a href=\"https://colab.research.google.com/github/CarlosDavid07/SistemasInteligentes2021-1/blob/main/Copia_de_FeatureSelectionSaber11.ipynb\" target=\"_parent\"><img src=\"https://colab.research.google.com/assets/colab-badge.svg\" alt=\"Open In Colab\"/></a>"
      ]
    },
    {
      "cell_type": "markdown",
      "metadata": {
        "id": "OQFlWlRaErbu"
      },
      "source": [
        "**Step 1: Load dataset**"
      ]
    },
    {
      "cell_type": "code",
      "metadata": {
        "id": "54SElNVBmw4q"
      },
      "source": [
        "#Pandas: work with datasets\n",
        "import pandas as pd\n",
        "pd.set_option('display.max_columns', 10)\n",
        "pd.set_option('display.width', 500)\n",
        "\n",
        "#Read dataset\n",
        "saber11 = pd.read_csv('https://docs.google.com/spreadsheets/d/e/2PACX-1vQTYUIwL4lm65bc29JAP8gcZYXGzn9sCa6XpavcsuUQ3xwuo4NWQancdaYIRChnKchJnkVdo_UYmFFF/pub?gid=0&single=true&output=csv')\n",
        "print(\"\\nSaber 11 Dataset:\\n\")\n",
        "print(saber11.head())\n"
      ],
      "execution_count": null,
      "outputs": []
    },
    {
      "cell_type": "markdown",
      "metadata": {
        "id": "iiJGgz18EymF"
      },
      "source": [
        "**Step 2: Drop unnecessary attributes**"
      ]
    },
    {
      "cell_type": "code",
      "metadata": {
        "id": "thKu0zFYcDU5"
      },
      "source": [
        "#Delete Id, because is not necessary\n",
        "saber11.drop(['Estudiante'], axis=1, inplace=True)\n",
        "print(\"\\nSaber 11 Dataset:\\n\")\n",
        "print(saber11.head())\n"
      ],
      "execution_count": null,
      "outputs": []
    },
    {
      "cell_type": "markdown",
      "metadata": {
        "id": "Uhr-7iccE6jN"
      },
      "source": [
        "**Step 3: Data description**"
      ]
    },
    {
      "cell_type": "code",
      "metadata": {
        "id": "w0TQJFUkdlAE"
      },
      "source": [
        "#Print basic statistics\n",
        "print(\"\\nBasic statistics:\\n\")\n",
        "print(saber11.describe().transpose())"
      ],
      "execution_count": null,
      "outputs": []
    },
    {
      "cell_type": "markdown",
      "metadata": {
        "id": "s5u5hVHNFB5J"
      },
      "source": [
        "**Step 4: Correlation analysis**"
      ]
    },
    {
      "cell_type": "code",
      "metadata": {
        "id": "KP1b1UG0ezRB"
      },
      "source": [
        "#Correlation Analysis\n",
        "import matplotlib.pyplot as plt\n",
        "\n",
        "corr = saber11.corr()\n",
        "print(corr)\n",
        "\n",
        "#Correlation plot\n",
        "f = plt.figure(figsize=(5, 5))\n",
        "plt.matshow(corr, fignum=f.number)\n",
        "plt.xticks(range(len(corr.columns)), corr.columns,fontsize=10, rotation=45);\n",
        "plt.yticks(range(len(corr.columns)), corr.columns,fontsize=10, rotation=45);\n",
        "cb = plt.colorbar()\n",
        "cb.ax.tick_params(labelsize=10)"
      ],
      "execution_count": null,
      "outputs": []
    },
    {
      "cell_type": "markdown",
      "metadata": {
        "id": "6jCjUwxGFI8N"
      },
      "source": [
        "**Step 5: Data transformation**"
      ]
    },
    {
      "cell_type": "code",
      "metadata": {
        "id": "wj1B18Xvc-Vb"
      },
      "source": [
        "#Binarize professional attribute\n",
        "cleanup_nums = {\"Profesional\":     {\"SI\": 1, \"NO\": 0}}\n",
        "saber11.replace(cleanup_nums, inplace=True)\n",
        "print(saber11.head())"
      ],
      "execution_count": null,
      "outputs": []
    },
    {
      "cell_type": "markdown",
      "metadata": {
        "id": "idpj7vZoFjiw"
      },
      "source": [
        "**Step 6: Split data**"
      ]
    },
    {
      "cell_type": "code",
      "metadata": {
        "id": "sjwHsMJ9gv87"
      },
      "source": [
        "#Split X and Y\n",
        "Y = saber11['Profesional']\n",
        "X = saber11.drop(['Profesional'], axis=1)\n",
        "\n",
        "print(\"\\nX:\\n\")\n",
        "print(X[:5]) #Print just  5 records\n",
        "\n",
        "print(\"\\nY:\\n\")\n",
        "print(Y[:5])  #Print just 5 records"
      ],
      "execution_count": null,
      "outputs": []
    },
    {
      "cell_type": "markdown",
      "metadata": {
        "id": "rVGkTzKIF0MK"
      },
      "source": [
        "**Step 7: Feature selection: remove low variance attributes**"
      ]
    },
    {
      "cell_type": "code",
      "metadata": {
        "id": "xPI2kFGKnHNR"
      },
      "source": [
        "#Remove low variance attributes\n",
        "from sklearn.feature_selection import VarianceThreshold\n",
        "import numpy as np\n",
        "\n",
        "vt = VarianceThreshold(threshold=3)\n",
        "X = vt.fit_transform(X)\n",
        "\n",
        "print(\"\\nSaber_11 Dataset (X):\\n\")\n",
        "print(X[:5]) #Print just  5 records"
      ],
      "execution_count": null,
      "outputs": []
    },
    {
      "cell_type": "markdown",
      "metadata": {
        "id": "TL0wkFA2EpUo"
      },
      "source": [
        "**Step 7A: Remove highly correlated attributes**"
      ]
    },
    {
      "cell_type": "code",
      "metadata": {
        "id": "kZD3-LBQpskV"
      },
      "source": [
        "#Remove attributes X with low correlation respect to Y\n",
        "from sklearn.feature_selection import SelectKBest, mutual_info_regression, f_regression\n",
        "\n",
        "X = SelectKBest(f_regression, k=3).fit_transform(X, Y)\n",
        "\n",
        "print(\"\\nNew X dataset:\\n\")\n",
        "print(X[:5]) #Print just  5 records\n",
        "\n",
        "print(\"\\nY:\\n\")\n",
        "print(Y[:5]) #Print just  5 records"
      ],
      "execution_count": null,
      "outputs": []
    },
    {
      "cell_type": "markdown",
      "metadata": {
        "id": "w-75KK2HGJc1"
      },
      "source": [
        "**Step 8: Attribute rescaling**"
      ]
    },
    {
      "cell_type": "code",
      "metadata": {
        "id": "xbsOuFHTmY9x"
      },
      "source": [
        "#Attribute Scaling\n",
        "from sklearn.preprocessing import StandardScaler,  MinMaxScaler\n",
        "\n",
        "#scaler = StandardScaler()\n",
        "scaler = MinMaxScaler()\n",
        "X = scaler.fit_transform(X)\n",
        "\n",
        "print(X)"
      ],
      "execution_count": null,
      "outputs": []
    }
  ]
}